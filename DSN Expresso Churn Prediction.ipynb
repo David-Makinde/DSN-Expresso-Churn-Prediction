{
 "cells": [
  {
   "cell_type": "code",
   "execution_count": 124,
   "metadata": {},
   "outputs": [],
   "source": [
    "## Importing Libraries\n",
    "import pandas as pd\n",
    "import numpy as np\n",
    "from sklearn import preprocessing\n",
    "import matplotlib.pyplot as plt\n",
    "import seaborn as sns\n",
    "from sklearn.preprocessing import StandardScaler\n",
    "from sklearn import preprocessing\n",
    "from sklearn.linear_model import LogisticRegression\n",
    "from sklearn.ensemble import RandomForestClassifier as rfc\n",
    "from sklearn.neighbors import KNeighborsClassifier"
   ]
  },
  {
   "cell_type": "code",
   "execution_count": 125,
   "metadata": {},
   "outputs": [],
   "source": [
    "##Reading file\n",
    "df1 = pd.read_csv('C:/Users/TOTAGOUSER4/Documents/Totago Technologies/David/Data Science/Projects/DSN Expresso Churn Prediction/Train.csv')\n",
    "df2 = pd.read_csv('C:/Users/TOTAGOUSER4/Documents/Totago Technologies/David/Data Science/Projects/DSN Expresso Churn Prediction/Test.csv')"
   ]
  },
  {
   "cell_type": "code",
   "execution_count": 126,
   "metadata": {},
   "outputs": [],
   "source": [
    "##Checkpoint\n",
    "data1 = df1.copy()\n",
    "data2 = df2.copy()"
   ]
  },
  {
   "cell_type": "code",
   "execution_count": 127,
   "metadata": {
    "scrolled": true
   },
   "outputs": [
    {
     "data": {
      "text/html": [
       "<div>\n",
       "<style scoped>\n",
       "    .dataframe tbody tr th:only-of-type {\n",
       "        vertical-align: middle;\n",
       "    }\n",
       "\n",
       "    .dataframe tbody tr th {\n",
       "        vertical-align: top;\n",
       "    }\n",
       "\n",
       "    .dataframe thead th {\n",
       "        text-align: right;\n",
       "    }\n",
       "</style>\n",
       "<table border=\"1\" class=\"dataframe\">\n",
       "  <thead>\n",
       "    <tr style=\"text-align: right;\">\n",
       "      <th></th>\n",
       "      <th>user_id</th>\n",
       "      <th>REGION</th>\n",
       "      <th>TENURE</th>\n",
       "      <th>MONTANT</th>\n",
       "      <th>FREQUENCE_RECH</th>\n",
       "      <th>REVENUE</th>\n",
       "      <th>ARPU_SEGMENT</th>\n",
       "      <th>FREQUENCE</th>\n",
       "      <th>DATA_VOLUME</th>\n",
       "      <th>ON_NET</th>\n",
       "      <th>ORANGE</th>\n",
       "      <th>TIGO</th>\n",
       "      <th>ZONE1</th>\n",
       "      <th>ZONE2</th>\n",
       "      <th>MRG</th>\n",
       "      <th>REGULARITY</th>\n",
       "      <th>TOP_PACK</th>\n",
       "      <th>FREQ_TOP_PACK</th>\n",
       "      <th>CHURN</th>\n",
       "    </tr>\n",
       "  </thead>\n",
       "  <tbody>\n",
       "    <tr>\n",
       "      <th>0</th>\n",
       "      <td>dcf68cc2fb515ccad7d8b9b3bd80ee2a4b270063</td>\n",
       "      <td>SAINT-LOUIS</td>\n",
       "      <td>K &gt; 24 month</td>\n",
       "      <td>17000.0</td>\n",
       "      <td>32.0</td>\n",
       "      <td>18000.0</td>\n",
       "      <td>6000.0</td>\n",
       "      <td>34.0</td>\n",
       "      <td>NaN</td>\n",
       "      <td>97.0</td>\n",
       "      <td>355.0</td>\n",
       "      <td>6.0</td>\n",
       "      <td>NaN</td>\n",
       "      <td>NaN</td>\n",
       "      <td>NO</td>\n",
       "      <td>62</td>\n",
       "      <td>All-net 500F=2000F;5d</td>\n",
       "      <td>35.0</td>\n",
       "      <td>0</td>\n",
       "    </tr>\n",
       "    <tr>\n",
       "      <th>1</th>\n",
       "      <td>71c44b5ba328db5c4192a80f7cf8f244d9350ed0</td>\n",
       "      <td>NaN</td>\n",
       "      <td>K &gt; 24 month</td>\n",
       "      <td>4300.0</td>\n",
       "      <td>29.0</td>\n",
       "      <td>4427.0</td>\n",
       "      <td>1476.0</td>\n",
       "      <td>37.0</td>\n",
       "      <td>1764.0</td>\n",
       "      <td>8.0</td>\n",
       "      <td>3.0</td>\n",
       "      <td>0.0</td>\n",
       "      <td>NaN</td>\n",
       "      <td>2.0</td>\n",
       "      <td>NO</td>\n",
       "      <td>40</td>\n",
       "      <td>Data: 100 F=40MB,24H</td>\n",
       "      <td>22.0</td>\n",
       "      <td>0</td>\n",
       "    </tr>\n",
       "    <tr>\n",
       "      <th>2</th>\n",
       "      <td>ce46411b1526c94f20a383b8cb188f8d27f82a0a</td>\n",
       "      <td>TAMBACOUNDA</td>\n",
       "      <td>K &gt; 24 month</td>\n",
       "      <td>1500.0</td>\n",
       "      <td>3.0</td>\n",
       "      <td>1500.0</td>\n",
       "      <td>500.0</td>\n",
       "      <td>3.0</td>\n",
       "      <td>NaN</td>\n",
       "      <td>30.0</td>\n",
       "      <td>30.0</td>\n",
       "      <td>NaN</td>\n",
       "      <td>NaN</td>\n",
       "      <td>NaN</td>\n",
       "      <td>NO</td>\n",
       "      <td>32</td>\n",
       "      <td>All-net 500F=2000F;5d</td>\n",
       "      <td>3.0</td>\n",
       "      <td>0</td>\n",
       "    </tr>\n",
       "    <tr>\n",
       "      <th>3</th>\n",
       "      <td>f467cdb6669818373c26c2bad44e01ba66f97d21</td>\n",
       "      <td>FATICK</td>\n",
       "      <td>K &gt; 24 month</td>\n",
       "      <td>1500.0</td>\n",
       "      <td>3.0</td>\n",
       "      <td>2497.0</td>\n",
       "      <td>832.0</td>\n",
       "      <td>4.0</td>\n",
       "      <td>0.0</td>\n",
       "      <td>159.0</td>\n",
       "      <td>45.0</td>\n",
       "      <td>19.0</td>\n",
       "      <td>NaN</td>\n",
       "      <td>NaN</td>\n",
       "      <td>NO</td>\n",
       "      <td>18</td>\n",
       "      <td>On net 200F=Unlimited _call24H</td>\n",
       "      <td>3.0</td>\n",
       "      <td>0</td>\n",
       "    </tr>\n",
       "    <tr>\n",
       "      <th>4</th>\n",
       "      <td>ec45e1a1888a32b5dcce0954cfec20c6e037db31</td>\n",
       "      <td>FATICK</td>\n",
       "      <td>K &gt; 24 month</td>\n",
       "      <td>NaN</td>\n",
       "      <td>NaN</td>\n",
       "      <td>498.0</td>\n",
       "      <td>166.0</td>\n",
       "      <td>3.0</td>\n",
       "      <td>1.0</td>\n",
       "      <td>1.0</td>\n",
       "      <td>3.0</td>\n",
       "      <td>NaN</td>\n",
       "      <td>NaN</td>\n",
       "      <td>NaN</td>\n",
       "      <td>NO</td>\n",
       "      <td>50</td>\n",
       "      <td>NaN</td>\n",
       "      <td>NaN</td>\n",
       "      <td>0</td>\n",
       "    </tr>\n",
       "  </tbody>\n",
       "</table>\n",
       "</div>"
      ],
      "text/plain": [
       "                                    user_id       REGION        TENURE  \\\n",
       "0  dcf68cc2fb515ccad7d8b9b3bd80ee2a4b270063  SAINT-LOUIS  K > 24 month   \n",
       "1  71c44b5ba328db5c4192a80f7cf8f244d9350ed0          NaN  K > 24 month   \n",
       "2  ce46411b1526c94f20a383b8cb188f8d27f82a0a  TAMBACOUNDA  K > 24 month   \n",
       "3  f467cdb6669818373c26c2bad44e01ba66f97d21       FATICK  K > 24 month   \n",
       "4  ec45e1a1888a32b5dcce0954cfec20c6e037db31       FATICK  K > 24 month   \n",
       "\n",
       "   MONTANT  FREQUENCE_RECH  REVENUE  ARPU_SEGMENT  FREQUENCE  DATA_VOLUME  \\\n",
       "0  17000.0            32.0  18000.0        6000.0       34.0          NaN   \n",
       "1   4300.0            29.0   4427.0        1476.0       37.0       1764.0   \n",
       "2   1500.0             3.0   1500.0         500.0        3.0          NaN   \n",
       "3   1500.0             3.0   2497.0         832.0        4.0          0.0   \n",
       "4      NaN             NaN    498.0         166.0        3.0          1.0   \n",
       "\n",
       "   ON_NET  ORANGE  TIGO  ZONE1  ZONE2 MRG  REGULARITY  \\\n",
       "0    97.0   355.0   6.0    NaN    NaN  NO          62   \n",
       "1     8.0     3.0   0.0    NaN    2.0  NO          40   \n",
       "2    30.0    30.0   NaN    NaN    NaN  NO          32   \n",
       "3   159.0    45.0  19.0    NaN    NaN  NO          18   \n",
       "4     1.0     3.0   NaN    NaN    NaN  NO          50   \n",
       "\n",
       "                         TOP_PACK  FREQ_TOP_PACK  CHURN  \n",
       "0           All-net 500F=2000F;5d           35.0      0  \n",
       "1            Data: 100 F=40MB,24H           22.0      0  \n",
       "2           All-net 500F=2000F;5d            3.0      0  \n",
       "3  On net 200F=Unlimited _call24H            3.0      0  \n",
       "4                             NaN            NaN      0  "
      ]
     },
     "execution_count": 127,
     "metadata": {},
     "output_type": "execute_result"
    }
   ],
   "source": [
    "##To display entire dataset\n",
    "pd.set_option('display.max_columns', None)\n",
    "pd.set_option('display.max_rows',  None)\n",
    "df1.head()"
   ]
  },
  {
   "cell_type": "code",
   "execution_count": null,
   "metadata": {},
   "outputs": [],
   "source": []
  },
  {
   "cell_type": "code",
   "execution_count": 128,
   "metadata": {},
   "outputs": [
    {
     "name": "stdout",
     "output_type": "stream",
     "text": [
      "<class 'pandas.core.frame.DataFrame'>\n",
      "RangeIndex: 400000 entries, 0 to 399999\n",
      "Data columns (total 19 columns):\n",
      " #   Column          Non-Null Count   Dtype  \n",
      "---  ------          --------------   -----  \n",
      " 0   user_id         400000 non-null  object \n",
      " 1   REGION          242480 non-null  object \n",
      " 2   TENURE          400000 non-null  object \n",
      " 3   MONTANT         259723 non-null  float64\n",
      " 4   FREQUENCE_RECH  259723 non-null  float64\n",
      " 5   REVENUE         265337 non-null  float64\n",
      " 6   ARPU_SEGMENT    265337 non-null  float64\n",
      " 7   FREQUENCE       265337 non-null  float64\n",
      " 8   DATA_VOLUME     203146 non-null  float64\n",
      " 9   ON_NET          254181 non-null  float64\n",
      " 10  ORANGE          233683 non-null  float64\n",
      " 11  TIGO            160614 non-null  float64\n",
      " 12  ZONE1           31690 non-null   float64\n",
      " 13  ZONE2           25513 non-null   float64\n",
      " 14  MRG             400000 non-null  object \n",
      " 15  REGULARITY      400000 non-null  int64  \n",
      " 16  TOP_PACK        232671 non-null  object \n",
      " 17  FREQ_TOP_PACK   232671 non-null  float64\n",
      " 18  CHURN           400000 non-null  int64  \n",
      "dtypes: float64(12), int64(2), object(5)\n",
      "memory usage: 58.0+ MB\n"
     ]
    }
   ],
   "source": [
    "df1.info()"
   ]
  },
  {
   "cell_type": "code",
   "execution_count": 129,
   "metadata": {},
   "outputs": [
    {
     "data": {
      "text/plain": [
       "array([ 35.,  22.,   3.,  nan,   7.,   2.,   4.,  11.,   1.,  29.,  17.,\n",
       "         8.,  14.,   5.,  21.,   9.,  13.,  16.,  42.,   6.,  25.,  74.,\n",
       "        15.,  56.,  32.,  81.,  24.,  12.,  50.,  20.,  19.,  10.,  65.,\n",
       "        18.,  31.,  38.,  59.,  79.,  28.,  23.,  39.,  27., 129.,  30.,\n",
       "        33.,  43.,  40.,  48.,  45.,  26.,  73.,  66.,  37.,  80.,  46.,\n",
       "        60.,  55.,  49.,  36.,  52.,  68.,  34.,  84.,  86.,  92.,  76.,\n",
       "        53.,  58.,  44.,  54.,  47., 117.,  75.,  57.,  41.,  98.,  93.,\n",
       "        77.,  62.,  64.,  61., 104.,  51.,  87.,  69.,  63., 141., 188.,\n",
       "       102., 127.,  71.,  91.,  89.,  78.,  67.,  90.,  83., 257., 130.,\n",
       "        70.,  72., 103.,  85., 238.,  95.,  82., 114., 116., 112.,  96.,\n",
       "       149., 108.,  97.,  94., 120., 262., 126., 145.,  88., 101., 134.,\n",
       "       169., 253., 174., 105., 100., 118., 143., 106., 122., 139., 150.,\n",
       "       125., 156., 160., 109., 110., 132., 128., 186., 113., 198., 629.,\n",
       "       511., 243., 111., 121., 107., 146., 212., 133.,  99., 193., 124.,\n",
       "       227., 200., 168., 131., 153., 161., 115., 171., 166., 278., 170.,\n",
       "       163., 428., 135., 151., 119., 123.])"
      ]
     },
     "execution_count": 129,
     "metadata": {},
     "output_type": "execute_result"
    }
   ],
   "source": [
    "df1['FREQ_TOP_PACK'].unique()"
   ]
  },
  {
   "cell_type": "code",
   "execution_count": 130,
   "metadata": {},
   "outputs": [
    {
     "data": {
      "text/plain": [
       "<matplotlib.axes._subplots.AxesSubplot at 0x2843f879f88>"
      ]
     },
     "execution_count": 130,
     "metadata": {},
     "output_type": "execute_result"
    },
    {
     "data": {
      "image/png": "[encoded data removed]",
      "text/plain": [
       "<Figure size 432x288 with 1 Axes>"
      ]
     },
     "metadata": {
      "needs_background": "light"
     },
     "output_type": "display_data"
    }
   ],
   "source": [
    "df1['FREQ_TOP_PACK'].plot()"
   ]
  },
  {
   "cell_type": "code",
   "execution_count": 131,
   "metadata": {},
   "outputs": [],
   "source": [
    "## Fill null Tenure with mode (K>24)\n",
    "df1['REGION'].fillna('Unknown', inplace=True)\n",
    "df2['REGION'].fillna('Unknown', inplace=True)"
   ]
  },
  {
   "cell_type": "code",
   "execution_count": 132,
   "metadata": {},
   "outputs": [],
   "source": [
    "##Fill null Montant with the mean.\n",
    "df1['MONTANT'].fillna(np.mean(df1['MONTANT']), inplace=True)\n",
    "df2['MONTANT'].fillna(np.mean(df2['MONTANT']), inplace=True)"
   ]
  },
  {
   "cell_type": "code",
   "execution_count": 133,
   "metadata": {},
   "outputs": [],
   "source": [
    "##Fill null Frequency_Rech with the mean.\n",
    "df1['FREQUENCE_RECH'].fillna(np.mean(df1['FREQUENCE_RECH']), inplace=True)\n",
    "df2['FREQUENCE_RECH'].fillna(np.mean(df2['FREQUENCE_RECH']), inplace=True)"
   ]
  },
  {
   "cell_type": "code",
   "execution_count": 134,
   "metadata": {},
   "outputs": [],
   "source": [
    "##Fill null REVENUE with the mean.\n",
    "df1['REVENUE'].fillna(np.mean(df1['REVENUE']), inplace=True)\n",
    "df2['REVENUE'].fillna(np.mean(df2['REVENUE']), inplace=True)"
   ]
  },
  {
   "cell_type": "code",
   "execution_count": 135,
   "metadata": {},
   "outputs": [],
   "source": [
    "##Fill null ARPU_SEGMENT with the mean.\n",
    "df1['ARPU_SEGMENT'].fillna(np.mean(df1['ARPU_SEGMENT']), inplace=True)\n",
    "df2['ARPU_SEGMENT'].fillna(np.mean(df2['ARPU_SEGMENT']), inplace=True)"
   ]
  },
  {
   "cell_type": "code",
   "execution_count": 136,
   "metadata": {},
   "outputs": [],
   "source": [
    "##Fill null FREQUENCE with the mean.\n",
    "df1['FREQUENCE'].fillna(np.mean(df1['FREQUENCE']), inplace=True)\n",
    "df2['FREQUENCE'].fillna(np.mean(df2['FREQUENCE']), inplace=True)"
   ]
  },
  {
   "cell_type": "code",
   "execution_count": 137,
   "metadata": {},
   "outputs": [],
   "source": [
    "##Fill null DATA_VOLUME with the mean.\n",
    "df1['DATA_VOLUME'].fillna(np.mean(df1['DATA_VOLUME']), inplace=True)\n",
    "df2['DATA_VOLUME'].fillna(np.mean(df2['DATA_VOLUME']), inplace=True)"
   ]
  },
  {
   "cell_type": "code",
   "execution_count": 138,
   "metadata": {},
   "outputs": [],
   "source": [
    "##Fill null ON_NET with the mean.\n",
    "df1['ON_NET'].fillna(np.mean(df1['ON_NET']), inplace=True)\n",
    "df2['ON_NET'].fillna(np.mean(df2['ON_NET']), inplace=True)"
   ]
  },
  {
   "cell_type": "code",
   "execution_count": 139,
   "metadata": {},
   "outputs": [],
   "source": [
    "##Fill null ORANGE with the mean.\n",
    "df1['ORANGE'].fillna(np.mean(df1['ORANGE']), inplace=True)\n",
    "df2['ORANGE'].fillna(np.mean(df2['ORANGE']), inplace=True)"
   ]
  },
  {
   "cell_type": "code",
   "execution_count": 140,
   "metadata": {},
   "outputs": [],
   "source": [
    "##Fill null TIGO with the mean.\n",
    "df1['TIGO'].fillna(np.mean(df1['TIGO']), inplace=True)\n",
    "df2['TIGO'].fillna(np.mean(df2['TIGO']), inplace=True)"
   ]
  },
  {
   "cell_type": "code",
   "execution_count": 141,
   "metadata": {},
   "outputs": [],
   "source": [
    " ##Fill null ZONE1 with the mean.\n",
    "df1['ZONE1'].fillna(np.mean(df1['ZONE1']), inplace=True)\n",
    "df2['ZONE1'].fillna(np.mean(df2['ZONE1']), inplace=True)"
   ]
  },
  {
   "cell_type": "code",
   "execution_count": 142,
   "metadata": {},
   "outputs": [],
   "source": [
    " ##Fill null ZONE2 with the mean.\n",
    "df1['ZONE2'].fillna(np.mean(df1['ZONE2']), inplace=True)\n",
    "df2['ZONE2'].fillna(np.mean(df2['ZONE2']), inplace=True)"
   ]
  },
  {
   "cell_type": "code",
   "execution_count": 143,
   "metadata": {},
   "outputs": [],
   "source": [
    "from sklearn import preprocessing\n",
    "le = preprocessing.LabelEncoder()"
   ]
  },
  {
   "cell_type": "code",
   "execution_count": null,
   "metadata": {},
   "outputs": [],
   "source": []
  },
  {
   "cell_type": "code",
   "execution_count": 144,
   "metadata": {},
   "outputs": [],
   "source": [
    "#le.fit(df1['TOP_PACK'])\n",
    "#le.fit(df2['TOP_PACK'])"
   ]
  },
  {
   "cell_type": "code",
   "execution_count": 145,
   "metadata": {},
   "outputs": [],
   "source": [
    " ##Fill null FREQ_TOP_PACK with the mean.\n",
    "df1['FREQ_TOP_PACK'].fillna(np.mean(df1['FREQ_TOP_PACK']), inplace=True)\n",
    "df2['FREQ_TOP_PACK'].fillna(np.mean(df2['FREQ_TOP_PACK']), inplace=True)"
   ]
  },
  {
   "cell_type": "code",
   "execution_count": 146,
   "metadata": {},
   "outputs": [
    {
     "name": "stdout",
     "output_type": "stream",
     "text": [
      "<class 'pandas.core.frame.DataFrame'>\n",
      "RangeIndex: 400000 entries, 0 to 399999\n",
      "Data columns (total 19 columns):\n",
      " #   Column          Non-Null Count   Dtype  \n",
      "---  ------          --------------   -----  \n",
      " 0   user_id         400000 non-null  object \n",
      " 1   REGION          400000 non-null  object \n",
      " 2   TENURE          400000 non-null  object \n",
      " 3   MONTANT         400000 non-null  float64\n",
      " 4   FREQUENCE_RECH  400000 non-null  float64\n",
      " 5   REVENUE         400000 non-null  float64\n",
      " 6   ARPU_SEGMENT    400000 non-null  float64\n",
      " 7   FREQUENCE       400000 non-null  float64\n",
      " 8   DATA_VOLUME     400000 non-null  float64\n",
      " 9   ON_NET          400000 non-null  float64\n",
      " 10  ORANGE          400000 non-null  float64\n",
      " 11  TIGO            400000 non-null  float64\n",
      " 12  ZONE1           400000 non-null  float64\n",
      " 13  ZONE2           400000 non-null  float64\n",
      " 14  MRG             400000 non-null  object \n",
      " 15  REGULARITY      400000 non-null  int64  \n",
      " 16  TOP_PACK        232671 non-null  object \n",
      " 17  FREQ_TOP_PACK   400000 non-null  float64\n",
      " 18  CHURN           400000 non-null  int64  \n",
      "dtypes: float64(12), int64(2), object(5)\n",
      "memory usage: 58.0+ MB\n"
     ]
    }
   ],
   "source": [
    "df1.info()"
   ]
  },
  {
   "cell_type": "code",
   "execution_count": 147,
   "metadata": {},
   "outputs": [
    {
     "data": {
      "text/plain": [
       "Index(['user_id', 'REGION', 'TENURE', 'MONTANT', 'FREQUENCE_RECH', 'REVENUE',\n",
       "       'ARPU_SEGMENT', 'FREQUENCE', 'DATA_VOLUME', 'ON_NET', 'ORANGE', 'TIGO',\n",
       "       'ZONE1', 'ZONE2', 'MRG', 'REGULARITY', 'TOP_PACK', 'FREQ_TOP_PACK',\n",
       "       'CHURN'],\n",
       "      dtype='object')"
      ]
     },
     "execution_count": 147,
     "metadata": {},
     "output_type": "execute_result"
    }
   ],
   "source": [
    "df1.columns"
   ]
  },
  {
   "cell_type": "code",
   "execution_count": 148,
   "metadata": {},
   "outputs": [],
   "source": [
    "y = df1[['CHURN']]\n",
    "         \n",
    "X1 = df1[['REGION', 'TENURE', 'MONTANT', 'FREQUENCE_RECH', 'REVENUE',\n",
    "       'ARPU_SEGMENT', 'FREQUENCE', 'DATA_VOLUME', 'ON_NET', 'ORANGE', 'TIGO',\n",
    "       'ZONE1', 'ZONE2', 'MRG', 'REGULARITY', 'FREQ_TOP_PACK']]\n",
    "\n",
    "X2 = df2[['REGION', 'TENURE', 'MONTANT', 'FREQUENCE_RECH', 'REVENUE',\n",
    "       'ARPU_SEGMENT', 'FREQUENCE', 'DATA_VOLUME', 'ON_NET', 'ORANGE', 'TIGO',\n",
    "       'ZONE1', 'ZONE2', 'MRG', 'REGULARITY', 'FREQ_TOP_PACK']]"
   ]
  },
  {
   "cell_type": "code",
   "execution_count": 149,
   "metadata": {},
   "outputs": [],
   "source": [
    "##Dummies\n",
    "X1 = pd.get_dummies(X1)\n",
    "X2 = pd.get_dummies(X2)"
   ]
  },
  {
   "cell_type": "code",
   "execution_count": 150,
   "metadata": {},
   "outputs": [],
   "source": [
    "scaler = StandardScaler()\n",
    "scaler.fit(X1)\n",
    "\n",
    "X1 = scaler.transform(X1)\n",
    "X2 = scaler.transform(X2)"
   ]
  },
  {
   "cell_type": "code",
   "execution_count": 157,
   "metadata": {},
   "outputs": [],
   "source": [
    "from sklearn.linear_model import LogisticRegression\n",
    "from sklearn.ensemble import RandomForestClassifier\n",
    "from sklearn.preprocessing import StandardScaler\n",
    "from sklearn.pipeline import Pipeline\n",
    "\n",
    "pipe = Pipeline([(\"scaler\", StandardScaler()), (\"model\", LogisticRegression())])\n",
    "#pipe = Pipeline([(\"scaler\", StandardScaler()), (\"model\", RandomForestClassifier())])"
   ]
  },
  {
   "cell_type": "code",
   "execution_count": 158,
   "metadata": {},
   "outputs": [
    {
     "name": "stderr",
     "output_type": "stream",
     "text": [
      "C:\\Users\\TOTAGOUSER4\\anaconda3\\lib\\site-packages\\sklearn\\pipeline.py:354: DataConversionWarning: A column-vector y was passed when a 1d array was expected. Please change the shape of y to (n_samples,), for example using ravel().\n",
      "  self._final_estimator.fit(Xt, y, **fit_params)\n"
     ]
    },
    {
     "data": {
      "text/plain": [
       "Pipeline(memory=None,\n",
       "         steps=[('scaler',\n",
       "                 StandardScaler(copy=True, with_mean=True, with_std=True)),\n",
       "                ('model',\n",
       "                 RandomForestClassifier(bootstrap=True, ccp_alpha=0.0,\n",
       "                                        class_weight=None, criterion='gini',\n",
       "                                        max_depth=None, max_features='auto',\n",
       "                                        max_leaf_nodes=None, max_samples=None,\n",
       "                                        min_impurity_decrease=0.0,\n",
       "                                        min_impurity_split=None,\n",
       "                                        min_samples_leaf=1, min_samples_split=2,\n",
       "                                        min_weight_fraction_leaf=0.0,\n",
       "                                        n_estimators=100, n_jobs=None,\n",
       "                                        oob_score=False, random_state=None,\n",
       "                                        verbose=0, warm_start=False))],\n",
       "         verbose=False)"
      ]
     },
     "execution_count": 158,
     "metadata": {},
     "output_type": "execute_result"
    }
   ],
   "source": [
    "pipe.fit(X1, y)"
   ]
  },
  {
   "cell_type": "code",
   "execution_count": 159,
   "metadata": {},
   "outputs": [],
   "source": [
    "y2 = pipe.predict_proba(X2)"
   ]
  },
  {
   "cell_type": "code",
   "execution_count": 160,
   "metadata": {},
   "outputs": [
    {
     "data": {
      "text/plain": [
       "array([[0.33860812, 0.66139188],\n",
       "       [0.53265592, 0.46734408],\n",
       "       [0.81      , 0.19      ],\n",
       "       ...,\n",
       "       [0.96      , 0.04      ],\n",
       "       [1.        , 0.        ],\n",
       "       [0.89      , 0.11      ]])"
      ]
     },
     "execution_count": 160,
     "metadata": {},
     "output_type": "execute_result"
    }
   ],
   "source": [
    "y2"
   ]
  },
  {
   "cell_type": "code",
   "execution_count": 161,
   "metadata": {},
   "outputs": [
    {
     "data": {
      "text/plain": [
       "0.919875"
      ]
     },
     "execution_count": 161,
     "metadata": {},
     "output_type": "execute_result"
    }
   ],
   "source": [
    "pipe.score(X1, y)"
   ]
  },
  {
   "cell_type": "code",
   "execution_count": 117,
   "metadata": {},
   "outputs": [],
   "source": [
    "## Logistic Regression\n",
    "Reg = LogisticRegression()"
   ]
  },
  {
   "cell_type": "code",
   "execution_count": 118,
   "metadata": {},
   "outputs": [
    {
     "name": "stderr",
     "output_type": "stream",
     "text": [
      "C:\\Users\\TOTAGOUSER4\\anaconda3\\lib\\site-packages\\sklearn\\utils\\validation.py:760: DataConversionWarning: A column-vector y was passed when a 1d array was expected. Please change the shape of y to (n_samples, ), for example using ravel().\n",
      "  y = column_or_1d(y, warn=True)\n"
     ]
    },
    {
     "data": {
      "text/plain": [
       "LogisticRegression(C=1.0, class_weight=None, dual=False, fit_intercept=True,\n",
       "                   intercept_scaling=1, l1_ratio=None, max_iter=100,\n",
       "                   multi_class='auto', n_jobs=None, penalty='l2',\n",
       "                   random_state=None, solver='lbfgs', tol=0.0001, verbose=0,\n",
       "                   warm_start=False)"
      ]
     },
     "execution_count": 118,
     "metadata": {},
     "output_type": "execute_result"
    }
   ],
   "source": [
    "##Fitting the data\n",
    "Reg.fit(X1, y)"
   ]
  },
  {
   "cell_type": "code",
   "execution_count": 119,
   "metadata": {},
   "outputs": [
    {
     "data": {
      "text/plain": [
       "0.8743175"
      ]
     },
     "execution_count": 119,
     "metadata": {},
     "output_type": "execute_result"
    }
   ],
   "source": [
    "##Accuracy of model\n",
    "Reg.score(X1, y)"
   ]
  },
  {
   "cell_type": "code",
   "execution_count": 120,
   "metadata": {},
   "outputs": [],
   "source": [
    "y2 = Reg.predict(X2)"
   ]
  },
  {
   "cell_type": "code",
   "execution_count": 121,
   "metadata": {},
   "outputs": [
    {
     "data": {
      "text/plain": [
       "array([[0.32188104, 0.67811896],\n",
       "       [0.42440407, 0.57559593],\n",
       "       [0.8318219 , 0.1681781 ],\n",
       "       ...,\n",
       "       [0.99175774, 0.00824226],\n",
       "       [0.97918838, 0.02081162],\n",
       "       [0.90986747, 0.09013253]])"
      ]
     },
     "execution_count": 121,
     "metadata": {},
     "output_type": "execute_result"
    }
   ],
   "source": [
    "y3 = Reg.predict_proba(X2)\n",
    "y3"
   ]
  },
  {
   "cell_type": "code",
   "execution_count": 156,
   "metadata": {},
   "outputs": [],
   "source": [
    "##Saving the prediction\n",
    "z = pd.read_csv('C:/Users/TOTAGOUSER4/Documents/Totago Technologies/David/Data Science/Projects/DSN Expresso Churn Prediction/sample_submission.csv')\n",
    "z['CHURN'] = y2\n",
    "z.to_csv('C:/Users/TOTAGOUSER4/Documents/Totago Technologies/David/Data Science/Projects/DSN Expresso Churn Prediction/my_prediction.csv', index = False)"
   ]
  },
  {
   "cell_type": "code",
   "execution_count": null,
   "metadata": {},
   "outputs": [],
   "source": []
  }
 ],
 "metadata": {
  "kernelspec": {
   "display_name": "Python 3",
   "language": "python",
   "name": "python3"
  },
  "language_info": {
   "codemirror_mode": {
    "name": "ipython",
    "version": 3
   },
   "file_extension": ".py",
   "mimetype": "text/x-python",
   "name": "python",
   "nbconvert_exporter": "python",
   "pygments_lexer": "ipython3",
   "version": "3.8.3"
  }
 },
 "nbformat": 4,
 "nbformat_minor": 4
}
